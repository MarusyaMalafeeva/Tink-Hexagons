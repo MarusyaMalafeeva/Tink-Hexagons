{
 "cells": [
  {
   "cell_type": "markdown",
   "id": "d7cef991-6d39-4670-adfc-54c1def97b76",
   "metadata": {},
   "source": [
    "# Итоговый проект. Мария Малафеева"
   ]
  },
  {
   "cell_type": "markdown",
   "id": "50189ff5-59c8-4ecc-91f8-3cc328c704cd",
   "metadata": {},
   "source": [
    "- Для работы в проект были взяты датасеты Тинькофф Банка. Как известно, Тинькоф доставляет свои карты лично клиентам в указанные места. Для этого в Тиньке существует определенная система раздачи карт - они делат территорию на гексагоны. Чтобы оптимизировать отбивание заявок они регулярно вводят новые правила работы гексагонов. \n",
    "_____________________________________________________________\n",
    "- Первый датасет application_date содержит все заявки, которые поступали в банк для оформления карты\n",
    "- Второй датасет содержит информаци по режиму работы гексагонов"
   ]
  },
  {
   "cell_type": "markdown",
   "id": "b52d72c3-ff73-4d96-ba64-f95c522cd95f",
   "metadata": {},
   "source": [
    "## Установка данных и библиотек "
   ]
  },
  {
   "cell_type": "code",
   "execution_count": 371,
   "id": "d3429bd0-93ab-479f-92ad-e636ae0256f1",
   "metadata": {},
   "outputs": [],
   "source": [
    "import pandas as pd\n",
    "import numpy as np\n",
    "import matplotlib.pyplot as plt\n",
    "import seaborn as sns"
   ]
  },
  {
   "cell_type": "code",
   "execution_count": 372,
   "id": "fb4ead5b-0a4d-4550-8ca2-2b83ae22227f",
   "metadata": {},
   "outputs": [
    {
     "name": "stderr",
     "output_type": "stream",
     "text": [
      "C:\\Users\\Marusya\\AppData\\Local\\Temp\\ipykernel_9664\\247189388.py:2: DtypeWarning: Columns (3) have mixed types. Specify dtype option on import or set low_memory=False.\n",
      "  hexagons = pd.read_csv('hexagons_dataset.csv')\n"
     ]
    }
   ],
   "source": [
    "applications = pd.read_csv('application_dataset.csv', sep=';')\n",
    "hexagons = pd.read_csv('hexagons_dataset.csv')"
   ]
  },
  {
   "cell_type": "markdown",
   "id": "b7dfd56c-9bb2-42ac-a9ac-218ec989d2d9",
   "metadata": {},
   "source": [
    "Для начала предлагаю ознакомиться со столбцами датасетов, чтобы понимать с чем мы в дальнейшем будем работать:"
   ]
  },
  {
   "cell_type": "code",
   "execution_count": 373,
   "id": "6405a5a0-2087-4cb8-a217-4b1834734e7b",
   "metadata": {},
   "outputs": [
    {
     "data": {
      "text/html": [
       "<div>\n",
       "<style scoped>\n",
       "    .dataframe tbody tr th:only-of-type {\n",
       "        vertical-align: middle;\n",
       "    }\n",
       "\n",
       "    .dataframe tbody tr th {\n",
       "        vertical-align: top;\n",
       "    }\n",
       "\n",
       "    .dataframe thead th {\n",
       "        text-align: right;\n",
       "    }\n",
       "</style>\n",
       "<table border=\"1\" class=\"dataframe\">\n",
       "  <thead>\n",
       "    <tr style=\"text-align: right;\">\n",
       "      <th></th>\n",
       "      <th>Название столбца</th>\n",
       "      <th>Описание</th>\n",
       "      <th>Тип данных</th>\n",
       "    </tr>\n",
       "  </thead>\n",
       "  <tbody>\n",
       "    <tr>\n",
       "      <th>0</th>\n",
       "      <td>request_timestamp</td>\n",
       "      <td>дата заявки</td>\n",
       "      <td>datetime</td>\n",
       "    </tr>\n",
       "    <tr>\n",
       "      <th>1</th>\n",
       "      <td>type</td>\n",
       "      <td>тип продукта</td>\n",
       "      <td>object / category</td>\n",
       "    </tr>\n",
       "    <tr>\n",
       "      <th>2</th>\n",
       "      <td>sch_flg</td>\n",
       "      <td>флаг назначения встречи</td>\n",
       "      <td>int / bool</td>\n",
       "    </tr>\n",
       "    <tr>\n",
       "      <th>3</th>\n",
       "      <td>meet_flg</td>\n",
       "      <td>флаг состоявшейся встречи</td>\n",
       "      <td>int / bool</td>\n",
       "    </tr>\n",
       "    <tr>\n",
       "      <th>4</th>\n",
       "      <td>success_flg</td>\n",
       "      <td>флаг успешной встречи (может быть False при со...</td>\n",
       "      <td>int / bool</td>\n",
       "    </tr>\n",
       "    <tr>\n",
       "      <th>5</th>\n",
       "      <td>utlz_flg</td>\n",
       "      <td>флаг утилизации продукта</td>\n",
       "      <td>int / bool</td>\n",
       "    </tr>\n",
       "    <tr>\n",
       "      <th>6</th>\n",
       "      <td>real_utilization_dttm</td>\n",
       "      <td>дата утилизации</td>\n",
       "      <td>datetime</td>\n",
       "    </tr>\n",
       "    <tr>\n",
       "      <th>7</th>\n",
       "      <td>planned_start_date</td>\n",
       "      <td>первая назначенная встреча</td>\n",
       "      <td>datetime</td>\n",
       "    </tr>\n",
       "    <tr>\n",
       "      <th>8</th>\n",
       "      <td>start_interval</td>\n",
       "      <td>дата первого доступного интервала</td>\n",
       "      <td>datetime</td>\n",
       "    </tr>\n",
       "    <tr>\n",
       "      <th>9</th>\n",
       "      <td>hex</td>\n",
       "      <td>гексагон заявки</td>\n",
       "      <td>object / string</td>\n",
       "    </tr>\n",
       "  </tbody>\n",
       "</table>\n",
       "</div>"
      ],
      "text/plain": [
       "        Название столбца                                           Описание  \\\n",
       "0      request_timestamp                                        дата заявки   \n",
       "1                   type                                       тип продукта   \n",
       "2                sch_flg                            флаг назначения встречи   \n",
       "3               meet_flg                          флаг состоявшейся встречи   \n",
       "4            success_flg  флаг успешной встречи (может быть False при со...   \n",
       "5               utlz_flg                           флаг утилизации продукта   \n",
       "6  real_utilization_dttm                                    дата утилизации   \n",
       "7     planned_start_date                         первая назначенная встреча   \n",
       "8         start_interval                  дата первого доступного интервала   \n",
       "9                    hex                                    гексагон заявки   \n",
       "\n",
       "          Тип данных  \n",
       "0           datetime  \n",
       "1  object / category  \n",
       "2         int / bool  \n",
       "3         int / bool  \n",
       "4         int / bool  \n",
       "5         int / bool  \n",
       "6           datetime  \n",
       "7           datetime  \n",
       "8           datetime  \n",
       "9    object / string  "
      ]
     },
     "execution_count": 373,
     "metadata": {},
     "output_type": "execute_result"
    }
   ],
   "source": [
    "df_info = [\n",
    "    ['request_timestamp', 'дата заявки', 'datetime'],\n",
    "    ['type', 'тип продукта', 'object / category'],\n",
    "    ['sch_flg', 'флаг назначения встречи', 'int / bool'],\n",
    "    ['meet_flg', 'флаг состоявшейся встречи', 'int / bool'],\n",
    "    ['success_flg', 'флаг успешной встречи (может быть False при состоявшейся встрече)', 'int / bool'],\n",
    "    ['utlz_flg', 'флаг утилизации продукта', 'int / bool'],\n",
    "    ['real_utilization_dttm', 'дата утилизации', 'datetime'],\n",
    "    ['planned_start_date', 'первая назначенная встреча', 'datetime'],\n",
    "    ['first_success_dttm', 'дата успешной встречи', 'datetime'],\n",
    "    ['start_interval', 'дата первого доступного интервала', 'datetime'],\n",
    "    ['hex', 'гексагон заявки', 'object / string']\n",
    "]\n",
    "\n",
    "\n",
    "columnsdf = pd.DataFrame(data_info, columns=['Название столбца', 'Описание', 'Тип данных'])\n",
    "columnsdf\n"
   ]
  },
  {
   "cell_type": "code",
   "execution_count": 374,
   "id": "2951be21-5b13-4a91-bacc-ef89dcc9a253",
   "metadata": {},
   "outputs": [
    {
     "data": {
      "text/html": [
       "<div>\n",
       "<style scoped>\n",
       "    .dataframe tbody tr th:only-of-type {\n",
       "        vertical-align: middle;\n",
       "    }\n",
       "\n",
       "    .dataframe tbody tr th {\n",
       "        vertical-align: top;\n",
       "    }\n",
       "\n",
       "    .dataframe thead th {\n",
       "        text-align: right;\n",
       "    }\n",
       "</style>\n",
       "<table border=\"1\" class=\"dataframe\">\n",
       "  <thead>\n",
       "    <tr style=\"text-align: right;\">\n",
       "      <th></th>\n",
       "      <th>Название столбца</th>\n",
       "      <th>Описание</th>\n",
       "      <th>Тип данных</th>\n",
       "    </tr>\n",
       "  </thead>\n",
       "  <tbody>\n",
       "    <tr>\n",
       "      <th>0</th>\n",
       "      <td>hex</td>\n",
       "      <td>Гексагон заявки</td>\n",
       "      <td>object / string</td>\n",
       "    </tr>\n",
       "    <tr>\n",
       "      <th>1</th>\n",
       "      <td>subject</td>\n",
       "      <td>Субъект РФ</td>\n",
       "      <td>object / category</td>\n",
       "    </tr>\n",
       "    <tr>\n",
       "      <th>2</th>\n",
       "      <td>treatment_date</td>\n",
       "      <td>Дата изменений</td>\n",
       "      <td>datetime</td>\n",
       "    </tr>\n",
       "    <tr>\n",
       "      <th>3</th>\n",
       "      <td>region_id_old</td>\n",
       "      <td>ID региона до изменений</td>\n",
       "      <td>int / string</td>\n",
       "    </tr>\n",
       "    <tr>\n",
       "      <th>4</th>\n",
       "      <td>region_id_new</td>\n",
       "      <td>ID региона после изменений</td>\n",
       "      <td>int / string</td>\n",
       "    </tr>\n",
       "    <tr>\n",
       "      <th>5</th>\n",
       "      <td>work_mode_old</td>\n",
       "      <td>Режим работы до изменений</td>\n",
       "      <td>object / category</td>\n",
       "    </tr>\n",
       "    <tr>\n",
       "      <th>6</th>\n",
       "      <td>work_mode_new</td>\n",
       "      <td>Режим работы после изменений</td>\n",
       "      <td>object / category</td>\n",
       "    </tr>\n",
       "  </tbody>\n",
       "</table>\n",
       "</div>"
      ],
      "text/plain": [
       "  Название столбца                      Описание         Тип данных\n",
       "0              hex               Гексагон заявки    object / string\n",
       "1          subject                    Субъект РФ  object / category\n",
       "2   treatment_date                Дата изменений           datetime\n",
       "3    region_id_old       ID региона до изменений       int / string\n",
       "4    region_id_new    ID региона после изменений       int / string\n",
       "5    work_mode_old     Режим работы до изменений  object / category\n",
       "6    work_mode_new  Режим работы после изменений  object / category"
      ]
     },
     "execution_count": 374,
     "metadata": {},
     "output_type": "execute_result"
    }
   ],
   "source": [
    "hex_df_info = [\n",
    "    ['hex', 'Гексагон заявки', 'object / string'],\n",
    "    ['subject', 'Субъект РФ', 'object / category'],\n",
    "    ['treatment_date', 'Дата изменений', 'datetime'],\n",
    "    ['region_id_old', 'ID региона до изменений', 'int / string'],\n",
    "    ['region_id_new', 'ID региона после изменений', 'int / string'],\n",
    "    ['work_mode_old', 'Режим работы до изменений', 'object / category'],\n",
    "    ['work_mode_new', 'Режим работы после изменений', 'object / category']\n",
    "]\n",
    "\n",
    "# Создание DataFrame с описанием\n",
    "hex_df = pd.DataFrame(region_data_info, columns=['Название столбца', 'Описание', 'Тип данных'])\n",
    "hex_df"
   ]
  },
  {
   "cell_type": "markdown",
   "id": "68e0a22d-3811-4e57-ac9c-7da13cad130b",
   "metadata": {},
   "source": [
    "## Подготовка и очистка данных"
   ]
  },
  {
   "cell_type": "markdown",
   "id": "0a2773bb-d64b-4641-861e-1f47561ad2d2",
   "metadata": {},
   "source": [
    "- Для того чтобы начать делать какие-то выводы по датасетам, нам необходимо сделать их однородными и найти обoщие пересецения (территория и гексагон)\n",
    "- Предлагаю сначала переформатировать и поистить датасеты, затем объединить их. То что все даты указаны в формате дататайм - моя догадка, поэтому сразу переформатирую их на всякий случай"
   ]
  },
  {
   "cell_type": "code",
   "execution_count": 375,
   "id": "71a5f1e4-6fb0-405a-a570-9cf86a32f309",
   "metadata": {},
   "outputs": [],
   "source": [
    "# Преобразовываем формат даты на всякий случай, если он не преобразован\n",
    "applications['request_timestamp'] = pd.to_datetime(applications['request_timestamp'])\n",
    "applications['planned_start_date'] = pd.to_datetime(applications['planned_start_date'])\n",
    "applications['real_utilization_dttm'] = pd.to_datetime(applications['real_utilization_dttm'])\n",
    "hexagons['treatment_date'] = pd.to_datetime(hexagons['treatment_date'])"
   ]
  },
  {
   "cell_type": "code",
   "execution_count": 376,
   "id": "3c288d22-6cfd-491a-9385-16fcc2214dfc",
   "metadata": {},
   "outputs": [],
   "source": [
    "# Дропаем строки с NaN\n",
    "applications_clean = applications.dropna()\n",
    "hexagons_clean = hexagons.dropna()"
   ]
  },
  {
   "cell_type": "markdown",
   "id": "fd2ad37e-df1d-4ac8-8d47-67f82f4c44e0",
   "metadata": {},
   "source": [
    "Теперь яхочу свести информацию по датасетам. Для соединения двух датафреймов по общему столбцу hex. Параметр how='inner' указывает на то, что нужно оставить только те записи, которые есть в обоих датасетах. "
   ]
  },
  {
   "cell_type": "code",
   "execution_count": 377,
   "id": "d69d604b-80f2-4403-a844-64892a32dbc3",
   "metadata": {},
   "outputs": [],
   "source": [
    "df = pd.merge(applications, hexagons, on='hex', how='inner')"
   ]
  },
  {
   "cell_type": "code",
   "execution_count": 378,
   "id": "eb05ce0c-c247-4b37-a9bf-16dc46e39ea1",
   "metadata": {},
   "outputs": [
    {
     "data": {
      "text/html": [
       "<div>\n",
       "<style scoped>\n",
       "    .dataframe tbody tr th:only-of-type {\n",
       "        vertical-align: middle;\n",
       "    }\n",
       "\n",
       "    .dataframe tbody tr th {\n",
       "        vertical-align: top;\n",
       "    }\n",
       "\n",
       "    .dataframe thead th {\n",
       "        text-align: right;\n",
       "    }\n",
       "</style>\n",
       "<table border=\"1\" class=\"dataframe\">\n",
       "  <thead>\n",
       "    <tr style=\"text-align: right;\">\n",
       "      <th></th>\n",
       "      <th>request_timestamp</th>\n",
       "      <th>type</th>\n",
       "      <th>sch_flg</th>\n",
       "      <th>meet_flg</th>\n",
       "      <th>success_flg</th>\n",
       "      <th>utlz_flg</th>\n",
       "      <th>real_utilization_dttm</th>\n",
       "      <th>planned_start_date</th>\n",
       "      <th>first_success_dttm</th>\n",
       "      <th>start_interval</th>\n",
       "      <th>subject_req</th>\n",
       "      <th>hex</th>\n",
       "      <th>Unnamed: 0</th>\n",
       "      <th>subject</th>\n",
       "      <th>treatment_date</th>\n",
       "      <th>region_id_old</th>\n",
       "      <th>work_mode_old</th>\n",
       "      <th>region_id_new</th>\n",
       "      <th>work_mode_new</th>\n",
       "    </tr>\n",
       "  </thead>\n",
       "  <tbody>\n",
       "    <tr>\n",
       "      <th>0</th>\n",
       "      <td>2022-06-23</td>\n",
       "      <td>Debit Card</td>\n",
       "      <td>1</td>\n",
       "      <td>1</td>\n",
       "      <td>1</td>\n",
       "      <td>0</td>\n",
       "      <td>NaT</td>\n",
       "      <td>2022-06-29</td>\n",
       "      <td>2022-06-29</td>\n",
       "      <td>2022-06-28</td>\n",
       "      <td>Республика Башкортостан</td>\n",
       "      <td>88108b6e53fffff</td>\n",
       "      <td>232575</td>\n",
       "      <td>Башкортостан</td>\n",
       "      <td>NaT</td>\n",
       "      <td>138</td>\n",
       "      <td>7</td>\n",
       "      <td>96</td>\n",
       "      <td>7</td>\n",
       "    </tr>\n",
       "    <tr>\n",
       "      <th>1</th>\n",
       "      <td>2022-10-10</td>\n",
       "      <td>Debit Card</td>\n",
       "      <td>1</td>\n",
       "      <td>0</td>\n",
       "      <td>0</td>\n",
       "      <td>0</td>\n",
       "      <td>NaT</td>\n",
       "      <td>2022-10-02</td>\n",
       "      <td>NaN</td>\n",
       "      <td>2022-10-12</td>\n",
       "      <td>Алтайский край</td>\n",
       "      <td>880bb2d157fffff</td>\n",
       "      <td>2364913</td>\n",
       "      <td>Алтайский край</td>\n",
       "      <td>2022-10-19</td>\n",
       "      <td>60</td>\n",
       "      <td>7</td>\n",
       "      <td>60</td>\n",
       "      <td>7</td>\n",
       "    </tr>\n",
       "    <tr>\n",
       "      <th>2</th>\n",
       "      <td>2022-08-09</td>\n",
       "      <td>Debit Card</td>\n",
       "      <td>0</td>\n",
       "      <td>0</td>\n",
       "      <td>0</td>\n",
       "      <td>0</td>\n",
       "      <td>NaT</td>\n",
       "      <td>NaT</td>\n",
       "      <td>NaN</td>\n",
       "      <td>NaN</td>\n",
       "      <td>Челябинская область</td>\n",
       "      <td>8810decc91fffff</td>\n",
       "      <td>386588</td>\n",
       "      <td>Челябинская область</td>\n",
       "      <td>2022-09-22</td>\n",
       "      <td>417</td>\n",
       "      <td>7</td>\n",
       "      <td>417</td>\n",
       "      <td>7</td>\n",
       "    </tr>\n",
       "    <tr>\n",
       "      <th>3</th>\n",
       "      <td>2022-07-15</td>\n",
       "      <td>Debit Card</td>\n",
       "      <td>1</td>\n",
       "      <td>0</td>\n",
       "      <td>0</td>\n",
       "      <td>1</td>\n",
       "      <td>2022-07-15</td>\n",
       "      <td>2022-07-18</td>\n",
       "      <td>NaN</td>\n",
       "      <td>2022-07-16</td>\n",
       "      <td>Томская область</td>\n",
       "      <td>880b86aedbfffff</td>\n",
       "      <td>2951867</td>\n",
       "      <td>Томская область</td>\n",
       "      <td>2022-10-19</td>\n",
       "      <td>62</td>\n",
       "      <td>7</td>\n",
       "      <td>62</td>\n",
       "      <td>7</td>\n",
       "    </tr>\n",
       "    <tr>\n",
       "      <th>4</th>\n",
       "      <td>2022-07-12</td>\n",
       "      <td>Debit Card</td>\n",
       "      <td>1</td>\n",
       "      <td>1</td>\n",
       "      <td>1</td>\n",
       "      <td>1</td>\n",
       "      <td>2022-07-14</td>\n",
       "      <td>2022-07-14</td>\n",
       "      <td>2022-07-14</td>\n",
       "      <td>2022-07-14</td>\n",
       "      <td>Курганская область</td>\n",
       "      <td>8810db008dfffff</td>\n",
       "      <td>473640</td>\n",
       "      <td>Курганская область</td>\n",
       "      <td>2022-09-22</td>\n",
       "      <td>88</td>\n",
       "      <td>7</td>\n",
       "      <td>88</td>\n",
       "      <td>7</td>\n",
       "    </tr>\n",
       "  </tbody>\n",
       "</table>\n",
       "</div>"
      ],
      "text/plain": [
       "  request_timestamp        type  sch_flg  meet_flg  success_flg  utlz_flg  \\\n",
       "0        2022-06-23  Debit Card        1         1            1         0   \n",
       "1        2022-10-10  Debit Card        1         0            0         0   \n",
       "2        2022-08-09  Debit Card        0         0            0         0   \n",
       "3        2022-07-15  Debit Card        1         0            0         1   \n",
       "4        2022-07-12  Debit Card        1         1            1         1   \n",
       "\n",
       "  real_utilization_dttm planned_start_date first_success_dttm start_interval  \\\n",
       "0                   NaT         2022-06-29         2022-06-29     2022-06-28   \n",
       "1                   NaT         2022-10-02                NaN     2022-10-12   \n",
       "2                   NaT                NaT                NaN            NaN   \n",
       "3            2022-07-15         2022-07-18                NaN     2022-07-16   \n",
       "4            2022-07-14         2022-07-14         2022-07-14     2022-07-14   \n",
       "\n",
       "               subject_req              hex  Unnamed: 0              subject  \\\n",
       "0  Республика Башкортостан  88108b6e53fffff      232575         Башкортостан   \n",
       "1           Алтайский край  880bb2d157fffff     2364913       Алтайский край   \n",
       "2      Челябинская область  8810decc91fffff      386588  Челябинская область   \n",
       "3          Томская область  880b86aedbfffff     2951867      Томская область   \n",
       "4       Курганская область  8810db008dfffff      473640   Курганская область   \n",
       "\n",
       "  treatment_date  region_id_old  work_mode_old  region_id_new  work_mode_new  \n",
       "0            NaT            138              7             96              7  \n",
       "1     2022-10-19             60              7             60              7  \n",
       "2     2022-09-22            417              7            417              7  \n",
       "3     2022-10-19             62              7             62              7  \n",
       "4     2022-09-22             88              7             88              7  "
      ]
     },
     "execution_count": 378,
     "metadata": {},
     "output_type": "execute_result"
    }
   ],
   "source": [
    "df.head()"
   ]
  },
  {
   "cell_type": "markdown",
   "id": "0960e230-12b3-49fe-b56a-28ef0139bc2d",
   "metadata": {},
   "source": [
    "Теперь у нас есть красивый датасет, где информаци сведена по гексагонам, но если честно мне немного сложно воспринимать общую логику датасета с такими названиями, попробуем переименовать все на русский язык и сразу удалим ненужные столбцы"
   ]
  },
  {
   "cell_type": "code",
   "execution_count": 379,
   "id": "186a359a-fd6c-4d37-8268-7de2f27bd0bb",
   "metadata": {},
   "outputs": [],
   "source": [
    "df.rename(columns={\n",
    "    'request_timestamp': 'дата заявки',\n",
    "    'type': 'тип карты',\n",
    "    'sch_flg': 'встреча назначена',\n",
    "    'meet_flg': 'встреча состоялась',\n",
    "    'success_flg': 'встреча состоялась успешно',\n",
    "    'utlz_flg': 'карта утилизирована',\n",
    "    'first_success_dttm': 'дата успешной встречи',\n",
    "    'real_utilization_dttm': 'дата утилизации',\n",
    "     'subject_req': 'Субъект РФ',\n",
    "    'planned_start_date': 'дата встречи',\n",
    "    'start_interval': 'дата первого доступа',    \n",
    "    'hex': 'гексагон',\n",
    "    'subject': 'субъект_РФ',\n",
    "    'treatment_date': 'дата изменений',\n",
    "    'region_id_old': 'регион до',\n",
    "    'region_id_new': 'регион после',\n",
    "    'work_mode_old': 'режим до',\n",
    "    'work_mode_new': 'режим после'\n",
    "}, inplace=True)"
   ]
  },
  {
   "cell_type": "code",
   "execution_count": 380,
   "id": "701df557-c00d-4642-92d4-be5ba41e62ee",
   "metadata": {},
   "outputs": [],
   "source": [
    "df = df.drop(columns=['субъект_РФ', 'Unnamed: 0', 'режим после', 'режим до', 'регион до', 'регион после'])"
   ]
  },
  {
   "cell_type": "code",
   "execution_count": 381,
   "id": "d2742702-2186-433d-b815-5b8af56db6a5",
   "metadata": {},
   "outputs": [
    {
     "data": {
      "text/html": [
       "<div>\n",
       "<style scoped>\n",
       "    .dataframe tbody tr th:only-of-type {\n",
       "        vertical-align: middle;\n",
       "    }\n",
       "\n",
       "    .dataframe tbody tr th {\n",
       "        vertical-align: top;\n",
       "    }\n",
       "\n",
       "    .dataframe thead th {\n",
       "        text-align: right;\n",
       "    }\n",
       "</style>\n",
       "<table border=\"1\" class=\"dataframe\">\n",
       "  <thead>\n",
       "    <tr style=\"text-align: right;\">\n",
       "      <th></th>\n",
       "      <th>дата заявки</th>\n",
       "      <th>тип карты</th>\n",
       "      <th>встреча назначена</th>\n",
       "      <th>встреча состоялась</th>\n",
       "      <th>встреча состоялась успешно</th>\n",
       "      <th>карта утилизирована</th>\n",
       "      <th>дата утилизации</th>\n",
       "      <th>дата встречи</th>\n",
       "      <th>дата успешной встречи</th>\n",
       "      <th>дата первого доступа</th>\n",
       "      <th>Субъект РФ</th>\n",
       "      <th>гексагон</th>\n",
       "      <th>дата изменений</th>\n",
       "    </tr>\n",
       "  </thead>\n",
       "  <tbody>\n",
       "    <tr>\n",
       "      <th>0</th>\n",
       "      <td>2022-06-23</td>\n",
       "      <td>Debit Card</td>\n",
       "      <td>1</td>\n",
       "      <td>1</td>\n",
       "      <td>1</td>\n",
       "      <td>0</td>\n",
       "      <td>NaT</td>\n",
       "      <td>2022-06-29</td>\n",
       "      <td>2022-06-29</td>\n",
       "      <td>2022-06-28</td>\n",
       "      <td>Республика Башкортостан</td>\n",
       "      <td>88108b6e53fffff</td>\n",
       "      <td>NaT</td>\n",
       "    </tr>\n",
       "    <tr>\n",
       "      <th>1</th>\n",
       "      <td>2022-10-10</td>\n",
       "      <td>Debit Card</td>\n",
       "      <td>1</td>\n",
       "      <td>0</td>\n",
       "      <td>0</td>\n",
       "      <td>0</td>\n",
       "      <td>NaT</td>\n",
       "      <td>2022-10-02</td>\n",
       "      <td>NaN</td>\n",
       "      <td>2022-10-12</td>\n",
       "      <td>Алтайский край</td>\n",
       "      <td>880bb2d157fffff</td>\n",
       "      <td>2022-10-19</td>\n",
       "    </tr>\n",
       "    <tr>\n",
       "      <th>2</th>\n",
       "      <td>2022-08-09</td>\n",
       "      <td>Debit Card</td>\n",
       "      <td>0</td>\n",
       "      <td>0</td>\n",
       "      <td>0</td>\n",
       "      <td>0</td>\n",
       "      <td>NaT</td>\n",
       "      <td>NaT</td>\n",
       "      <td>NaN</td>\n",
       "      <td>NaN</td>\n",
       "      <td>Челябинская область</td>\n",
       "      <td>8810decc91fffff</td>\n",
       "      <td>2022-09-22</td>\n",
       "    </tr>\n",
       "    <tr>\n",
       "      <th>3</th>\n",
       "      <td>2022-07-15</td>\n",
       "      <td>Debit Card</td>\n",
       "      <td>1</td>\n",
       "      <td>0</td>\n",
       "      <td>0</td>\n",
       "      <td>1</td>\n",
       "      <td>2022-07-15</td>\n",
       "      <td>2022-07-18</td>\n",
       "      <td>NaN</td>\n",
       "      <td>2022-07-16</td>\n",
       "      <td>Томская область</td>\n",
       "      <td>880b86aedbfffff</td>\n",
       "      <td>2022-10-19</td>\n",
       "    </tr>\n",
       "    <tr>\n",
       "      <th>4</th>\n",
       "      <td>2022-07-12</td>\n",
       "      <td>Debit Card</td>\n",
       "      <td>1</td>\n",
       "      <td>1</td>\n",
       "      <td>1</td>\n",
       "      <td>1</td>\n",
       "      <td>2022-07-14</td>\n",
       "      <td>2022-07-14</td>\n",
       "      <td>2022-07-14</td>\n",
       "      <td>2022-07-14</td>\n",
       "      <td>Курганская область</td>\n",
       "      <td>8810db008dfffff</td>\n",
       "      <td>2022-09-22</td>\n",
       "    </tr>\n",
       "  </tbody>\n",
       "</table>\n",
       "</div>"
      ],
      "text/plain": [
       "  дата заявки   тип карты  встреча назначена  встреча состоялась  \\\n",
       "0  2022-06-23  Debit Card                  1                   1   \n",
       "1  2022-10-10  Debit Card                  1                   0   \n",
       "2  2022-08-09  Debit Card                  0                   0   \n",
       "3  2022-07-15  Debit Card                  1                   0   \n",
       "4  2022-07-12  Debit Card                  1                   1   \n",
       "\n",
       "   встреча состоялась успешно  карта утилизирована дата утилизации  \\\n",
       "0                           1                    0             NaT   \n",
       "1                           0                    0             NaT   \n",
       "2                           0                    0             NaT   \n",
       "3                           0                    1      2022-07-15   \n",
       "4                           1                    1      2022-07-14   \n",
       "\n",
       "  дата встречи дата успешной встречи дата первого доступа  \\\n",
       "0   2022-06-29            2022-06-29           2022-06-28   \n",
       "1   2022-10-02                   NaN           2022-10-12   \n",
       "2          NaT                   NaN                  NaN   \n",
       "3   2022-07-18                   NaN           2022-07-16   \n",
       "4   2022-07-14            2022-07-14           2022-07-14   \n",
       "\n",
       "                Субъект РФ         гексагон дата изменений  \n",
       "0  Республика Башкортостан  88108b6e53fffff            NaT  \n",
       "1           Алтайский край  880bb2d157fffff     2022-10-19  \n",
       "2      Челябинская область  8810decc91fffff     2022-09-22  \n",
       "3          Томская область  880b86aedbfffff     2022-10-19  \n",
       "4       Курганская область  8810db008dfffff     2022-09-22  "
      ]
     },
     "execution_count": 381,
     "metadata": {},
     "output_type": "execute_result"
    }
   ],
   "source": [
    "df.head()"
   ]
  },
  {
   "cell_type": "markdown",
   "id": "0ac23ac6-8670-4cf6-bf69-cea37819ad3d",
   "metadata": {},
   "source": [
    "Теперь снова создадим два датафрейма, но разобьем их уже по другому принципу: один будет содержать данные до изменений в режиме работы гексагонов, другой после измениний. Так мы сможем посмотреть статистику по обновлениям и узнать динамику "
   ]
  },
  {
   "cell_type": "code",
   "execution_count": 382,
   "id": "63319d9e-4cab-45ba-8acd-da9f13c70997",
   "metadata": {},
   "outputs": [],
   "source": [
    "df_old = df[df['дата встречи'] < df['дата изменений']].copy()\n",
    "df_new = df[df['дата встречи'] >= df['дата изменений']].copy()"
   ]
  },
  {
   "cell_type": "markdown",
   "id": "42dd7503-9976-405e-a8dd-3420c610da6f",
   "metadata": {},
   "source": [
    "У нас есть два красивых почищенных отформатированных датасета одного вида: \n",
    "- df_old для данных, которые были собраны до изменения гексагонов \n",
    "- df_new, для данных которые собраны после изменения гексагов "
   ]
  },
  {
   "cell_type": "code",
   "execution_count": 383,
   "id": "a5886f92-3c01-4bed-add6-ae16beb6e91e",
   "metadata": {},
   "outputs": [
    {
     "data": {
      "text/html": [
       "<div>\n",
       "<style scoped>\n",
       "    .dataframe tbody tr th:only-of-type {\n",
       "        vertical-align: middle;\n",
       "    }\n",
       "\n",
       "    .dataframe tbody tr th {\n",
       "        vertical-align: top;\n",
       "    }\n",
       "\n",
       "    .dataframe thead th {\n",
       "        text-align: right;\n",
       "    }\n",
       "</style>\n",
       "<table border=\"1\" class=\"dataframe\">\n",
       "  <thead>\n",
       "    <tr style=\"text-align: right;\">\n",
       "      <th></th>\n",
       "      <th>дата заявки</th>\n",
       "      <th>тип карты</th>\n",
       "      <th>встреча назначена</th>\n",
       "      <th>встреча состоялась</th>\n",
       "      <th>встреча состоялась успешно</th>\n",
       "      <th>карта утилизирована</th>\n",
       "      <th>дата утилизации</th>\n",
       "      <th>дата встречи</th>\n",
       "      <th>дата успешной встречи</th>\n",
       "      <th>дата первого доступа</th>\n",
       "      <th>Субъект РФ</th>\n",
       "      <th>гексагон</th>\n",
       "      <th>дата изменений</th>\n",
       "    </tr>\n",
       "  </thead>\n",
       "  <tbody>\n",
       "    <tr>\n",
       "      <th>1</th>\n",
       "      <td>2022-10-10</td>\n",
       "      <td>Debit Card</td>\n",
       "      <td>1</td>\n",
       "      <td>0</td>\n",
       "      <td>0</td>\n",
       "      <td>0</td>\n",
       "      <td>NaT</td>\n",
       "      <td>2022-10-02</td>\n",
       "      <td>NaN</td>\n",
       "      <td>2022-10-12</td>\n",
       "      <td>Алтайский край</td>\n",
       "      <td>880bb2d157fffff</td>\n",
       "      <td>2022-10-19</td>\n",
       "    </tr>\n",
       "    <tr>\n",
       "      <th>3</th>\n",
       "      <td>2022-07-15</td>\n",
       "      <td>Debit Card</td>\n",
       "      <td>1</td>\n",
       "      <td>0</td>\n",
       "      <td>0</td>\n",
       "      <td>1</td>\n",
       "      <td>2022-07-15</td>\n",
       "      <td>2022-07-18</td>\n",
       "      <td>NaN</td>\n",
       "      <td>2022-07-16</td>\n",
       "      <td>Томская область</td>\n",
       "      <td>880b86aedbfffff</td>\n",
       "      <td>2022-10-19</td>\n",
       "    </tr>\n",
       "    <tr>\n",
       "      <th>4</th>\n",
       "      <td>2022-07-12</td>\n",
       "      <td>Debit Card</td>\n",
       "      <td>1</td>\n",
       "      <td>1</td>\n",
       "      <td>1</td>\n",
       "      <td>1</td>\n",
       "      <td>2022-07-14</td>\n",
       "      <td>2022-07-14</td>\n",
       "      <td>2022-07-14</td>\n",
       "      <td>2022-07-14</td>\n",
       "      <td>Курганская область</td>\n",
       "      <td>8810db008dfffff</td>\n",
       "      <td>2022-09-22</td>\n",
       "    </tr>\n",
       "    <tr>\n",
       "      <th>5</th>\n",
       "      <td>2022-05-18</td>\n",
       "      <td>Debit Card</td>\n",
       "      <td>1</td>\n",
       "      <td>0</td>\n",
       "      <td>0</td>\n",
       "      <td>0</td>\n",
       "      <td>NaT</td>\n",
       "      <td>2022-05-21</td>\n",
       "      <td>NaN</td>\n",
       "      <td>2022-05-21</td>\n",
       "      <td>Новосибирская область</td>\n",
       "      <td>880bb036e5fffff</td>\n",
       "      <td>2022-10-19</td>\n",
       "    </tr>\n",
       "    <tr>\n",
       "      <th>6</th>\n",
       "      <td>2022-08-16</td>\n",
       "      <td>Debit Card</td>\n",
       "      <td>1</td>\n",
       "      <td>1</td>\n",
       "      <td>1</td>\n",
       "      <td>1</td>\n",
       "      <td>2022-08-23</td>\n",
       "      <td>2022-08-18</td>\n",
       "      <td>2022-08-18</td>\n",
       "      <td>2022-08-18</td>\n",
       "      <td>Кемеровская область</td>\n",
       "      <td>880b946935fffff</td>\n",
       "      <td>2022-10-19</td>\n",
       "    </tr>\n",
       "  </tbody>\n",
       "</table>\n",
       "</div>"
      ],
      "text/plain": [
       "  дата заявки   тип карты  встреча назначена  встреча состоялась  \\\n",
       "1  2022-10-10  Debit Card                  1                   0   \n",
       "3  2022-07-15  Debit Card                  1                   0   \n",
       "4  2022-07-12  Debit Card                  1                   1   \n",
       "5  2022-05-18  Debit Card                  1                   0   \n",
       "6  2022-08-16  Debit Card                  1                   1   \n",
       "\n",
       "   встреча состоялась успешно  карта утилизирована дата утилизации  \\\n",
       "1                           0                    0             NaT   \n",
       "3                           0                    1      2022-07-15   \n",
       "4                           1                    1      2022-07-14   \n",
       "5                           0                    0             NaT   \n",
       "6                           1                    1      2022-08-23   \n",
       "\n",
       "  дата встречи дата успешной встречи дата первого доступа  \\\n",
       "1   2022-10-02                   NaN           2022-10-12   \n",
       "3   2022-07-18                   NaN           2022-07-16   \n",
       "4   2022-07-14            2022-07-14           2022-07-14   \n",
       "5   2022-05-21                   NaN           2022-05-21   \n",
       "6   2022-08-18            2022-08-18           2022-08-18   \n",
       "\n",
       "              Субъект РФ         гексагон дата изменений  \n",
       "1         Алтайский край  880bb2d157fffff     2022-10-19  \n",
       "3        Томская область  880b86aedbfffff     2022-10-19  \n",
       "4     Курганская область  8810db008dfffff     2022-09-22  \n",
       "5  Новосибирская область  880bb036e5fffff     2022-10-19  \n",
       "6    Кемеровская область  880b946935fffff     2022-10-19  "
      ]
     },
     "execution_count": 383,
     "metadata": {},
     "output_type": "execute_result"
    }
   ],
   "source": [
    "df_old.head()"
   ]
  },
  {
   "cell_type": "code",
   "execution_count": 384,
   "id": "a073b5ba-f7dc-4c83-abff-19cb49919bcf",
   "metadata": {},
   "outputs": [
    {
     "data": {
      "text/html": [
       "<div>\n",
       "<style scoped>\n",
       "    .dataframe tbody tr th:only-of-type {\n",
       "        vertical-align: middle;\n",
       "    }\n",
       "\n",
       "    .dataframe tbody tr th {\n",
       "        vertical-align: top;\n",
       "    }\n",
       "\n",
       "    .dataframe thead th {\n",
       "        text-align: right;\n",
       "    }\n",
       "</style>\n",
       "<table border=\"1\" class=\"dataframe\">\n",
       "  <thead>\n",
       "    <tr style=\"text-align: right;\">\n",
       "      <th></th>\n",
       "      <th>дата заявки</th>\n",
       "      <th>тип карты</th>\n",
       "      <th>встреча назначена</th>\n",
       "      <th>встреча состоялась</th>\n",
       "      <th>встреча состоялась успешно</th>\n",
       "      <th>карта утилизирована</th>\n",
       "      <th>дата утилизации</th>\n",
       "      <th>дата встречи</th>\n",
       "      <th>дата успешной встречи</th>\n",
       "      <th>дата первого доступа</th>\n",
       "      <th>Субъект РФ</th>\n",
       "      <th>гексагон</th>\n",
       "      <th>дата изменений</th>\n",
       "    </tr>\n",
       "  </thead>\n",
       "  <tbody>\n",
       "    <tr>\n",
       "      <th>23</th>\n",
       "      <td>2022-08-23</td>\n",
       "      <td>Debit Card</td>\n",
       "      <td>1</td>\n",
       "      <td>1</td>\n",
       "      <td>1</td>\n",
       "      <td>1</td>\n",
       "      <td>2022-08-29</td>\n",
       "      <td>2022-08-29</td>\n",
       "      <td>2022-08-29</td>\n",
       "      <td>2022-08-29</td>\n",
       "      <td>Приморский край</td>\n",
       "      <td>882ec82cd5fffff</td>\n",
       "      <td>2022-08-19</td>\n",
       "    </tr>\n",
       "    <tr>\n",
       "      <th>32</th>\n",
       "      <td>2022-09-08</td>\n",
       "      <td>Debit Card</td>\n",
       "      <td>1</td>\n",
       "      <td>0</td>\n",
       "      <td>0</td>\n",
       "      <td>0</td>\n",
       "      <td>NaT</td>\n",
       "      <td>2022-09-11</td>\n",
       "      <td>NaN</td>\n",
       "      <td>2022-09-10</td>\n",
       "      <td>Тюменская область</td>\n",
       "      <td>8810d9a441fffff</td>\n",
       "      <td>2022-08-12</td>\n",
       "    </tr>\n",
       "    <tr>\n",
       "      <th>39</th>\n",
       "      <td>2022-10-05</td>\n",
       "      <td>Debit Card</td>\n",
       "      <td>1</td>\n",
       "      <td>0</td>\n",
       "      <td>0</td>\n",
       "      <td>0</td>\n",
       "      <td>NaT</td>\n",
       "      <td>2022-10-07</td>\n",
       "      <td>NaN</td>\n",
       "      <td>2022-10-07</td>\n",
       "      <td>Челябинская область</td>\n",
       "      <td>882121a669fffff</td>\n",
       "      <td>2022-09-22</td>\n",
       "    </tr>\n",
       "    <tr>\n",
       "      <th>44</th>\n",
       "      <td>2022-10-14</td>\n",
       "      <td>Debit Card</td>\n",
       "      <td>1</td>\n",
       "      <td>1</td>\n",
       "      <td>1</td>\n",
       "      <td>0</td>\n",
       "      <td>NaT</td>\n",
       "      <td>2022-10-17</td>\n",
       "      <td>2022-10-17</td>\n",
       "      <td>2022-10-17</td>\n",
       "      <td>Хабаровский край</td>\n",
       "      <td>8814d641c9fffff</td>\n",
       "      <td>2022-08-19</td>\n",
       "    </tr>\n",
       "    <tr>\n",
       "      <th>57</th>\n",
       "      <td>2022-09-19</td>\n",
       "      <td>Debit Card</td>\n",
       "      <td>1</td>\n",
       "      <td>1</td>\n",
       "      <td>1</td>\n",
       "      <td>1</td>\n",
       "      <td>2022-09-24</td>\n",
       "      <td>2022-09-22</td>\n",
       "      <td>2022-09-24</td>\n",
       "      <td>2022-09-22</td>\n",
       "      <td>Приморский край</td>\n",
       "      <td>88316c0b6bfffff</td>\n",
       "      <td>2022-08-19</td>\n",
       "    </tr>\n",
       "  </tbody>\n",
       "</table>\n",
       "</div>"
      ],
      "text/plain": [
       "   дата заявки   тип карты  встреча назначена  встреча состоялась  \\\n",
       "23  2022-08-23  Debit Card                  1                   1   \n",
       "32  2022-09-08  Debit Card                  1                   0   \n",
       "39  2022-10-05  Debit Card                  1                   0   \n",
       "44  2022-10-14  Debit Card                  1                   1   \n",
       "57  2022-09-19  Debit Card                  1                   1   \n",
       "\n",
       "    встреча состоялась успешно  карта утилизирована дата утилизации  \\\n",
       "23                           1                    1      2022-08-29   \n",
       "32                           0                    0             NaT   \n",
       "39                           0                    0             NaT   \n",
       "44                           1                    0             NaT   \n",
       "57                           1                    1      2022-09-24   \n",
       "\n",
       "   дата встречи дата успешной встречи дата первого доступа  \\\n",
       "23   2022-08-29            2022-08-29           2022-08-29   \n",
       "32   2022-09-11                   NaN           2022-09-10   \n",
       "39   2022-10-07                   NaN           2022-10-07   \n",
       "44   2022-10-17            2022-10-17           2022-10-17   \n",
       "57   2022-09-22            2022-09-24           2022-09-22   \n",
       "\n",
       "             Субъект РФ         гексагон дата изменений  \n",
       "23      Приморский край  882ec82cd5fffff     2022-08-19  \n",
       "32    Тюменская область  8810d9a441fffff     2022-08-12  \n",
       "39  Челябинская область  882121a669fffff     2022-09-22  \n",
       "44     Хабаровский край  8814d641c9fffff     2022-08-19  \n",
       "57      Приморский край  88316c0b6bfffff     2022-08-19  "
      ]
     },
     "execution_count": 384,
     "metadata": {},
     "output_type": "execute_result"
    }
   ],
   "source": [
    "df_new.head()"
   ]
  },
  {
   "cell_type": "markdown",
   "id": "bbcc2cac-0e8d-41ca-bafc-95b06b07ae6e",
   "metadata": {},
   "source": [
    "## Анализ данных"
   ]
  },
  {
   "cell_type": "markdown",
   "id": "37918d44-a40e-4c17-90c6-0b7e0e7c8c2d",
   "metadata": {},
   "source": [
    "Теперь, перед тем, как визуализировать статистику мне стало интересно, как долго в среднем гексагоны работают в новом режиме. Эта информация позволит нам прикинуть, насколько реально оценивать продуктивность новой системы  и насколько случайными могут быть данными. Ведь если старая система гексагонов существует несколько лет, а новая пару дней, мы не сможем оценить динамику как последствие новвоведений. Вдруг это просто случайность или другой экономический фактор? Очевидно, что разные гексагоны сменили режим в разное время и поэтому мы берем среднее по всем данным."
   ]
  },
  {
   "cell_type": "code",
   "execution_count": 385,
   "id": "dbc66200-c1b9-4581-afcc-a4b5409b73b9",
   "metadata": {},
   "outputs": [
    {
     "data": {
      "text/plain": [
       "гексагон\n",
       "880b1109a3fffff     NaN\n",
       "880b1148d9fffff     NaN\n",
       "880b114ab3fffff     NaN\n",
       "880b117343fffff     NaN\n",
       "880b11734bfffff     NaN\n",
       "                   ... \n",
       "88316eba87fffff    59.0\n",
       "88316eba95fffff    59.0\n",
       "88316eba97fffff    54.0\n",
       "88316ebab9fffff    59.0\n",
       "88316ebabbfffff    13.0\n",
       "Name: дни работы в режиме, Length: 11234, dtype: float64"
      ]
     },
     "execution_count": 385,
     "metadata": {},
     "output_type": "execute_result"
    }
   ],
   "source": [
    "df_new['дата изменений'] = pd.to_datetime(df_new['дата изменений'])\n",
    "df_new['дата успешной встречи'] = pd.to_datetime(df_new['дата успешной встречи'])\n",
    "\n",
    "# Создаём столбец \"дни работы в режиме\", который будет показывать сколько дней на момент успешной сделки гексагон существовал в новом режиме\n",
    "df_new['дни работы в режиме'] = (df_new['дата успешной встречи'] - df_new['дата изменений']).dt.days\n",
    "\n",
    "# Создаем сводную таблицу, чтобы найти максимальное значение. В нашем случае максимальное значение - \n",
    "# это количество дней существования гексагона вообще на момент создания датасета\n",
    "countafter = df_new.groupby('гексагон')['дни работы в режиме'].max()\n",
    "countafter"
   ]
  },
  {
   "cell_type": "code",
   "execution_count": 386,
   "id": "538de789-f87d-4f5e-9346-bf91ae36c05b",
   "metadata": {},
   "outputs": [
    {
     "data": {
      "text/plain": [
       "33.01967506334774"
      ]
     },
     "execution_count": 386,
     "metadata": {},
     "output_type": "execute_result"
    }
   ],
   "source": [
    "countafter.mean()"
   ]
  },
  {
   "cell_type": "markdown",
   "id": "6b33ddd3-698b-42ff-9596-afebc546b7a8",
   "metadata": {},
   "source": [
    "Мы получаем примерно месяц. Звучит неплохо. Проведем такую же операцию, чтобы узнать за какое время до завершения работы старых гексагонов нам предоставили данные. "
   ]
  },
  {
   "cell_type": "code",
   "execution_count": 387,
   "id": "9a58d6bf-62f8-4304-809a-05e9827b7b5c",
   "metadata": {},
   "outputs": [
    {
     "data": {
      "text/plain": [
       "гексагон\n",
       "880b1109a3fffff    175.0\n",
       "880b1109adfffff    169.0\n",
       "880b1109b1fffff    186.0\n",
       "880b1109b3fffff    126.0\n",
       "880b1109b5fffff     92.0\n",
       "                   ...  \n",
       "88316eba9dfffff      NaN\n",
       "88316ebab1fffff      NaN\n",
       "88316ebab9fffff    130.0\n",
       "88316ebabbfffff    133.0\n",
       "88316ebacdfffff    -54.0\n",
       "Name: дни работы в режиме, Length: 25166, dtype: float64"
      ]
     },
     "execution_count": 387,
     "metadata": {},
     "output_type": "execute_result"
    }
   ],
   "source": [
    "df_old['дата изменений'] = pd.to_datetime(df_old['дата изменений'])\n",
    "df_old['дата успешной встречи'] = pd.to_datetime(df_old['дата успешной встречи'])\n",
    "\n",
    "df_old['дни работы в режиме'] = (df_old['дата изменений'] - df_old['дата успешной встречи']).dt.days\n",
    "\n",
    "countbefore = df_old.groupby('гексагон')['дни работы в режиме'].max()\n",
    "\n",
    "countbefore"
   ]
  },
  {
   "cell_type": "code",
   "execution_count": 388,
   "id": "b055836a-8e9e-4e37-85c8-d716077f7615",
   "metadata": {},
   "outputs": [
    {
     "data": {
      "text/plain": [
       "115.96528130923213"
      ]
     },
     "execution_count": 388,
     "metadata": {},
     "output_type": "execute_result"
    }
   ],
   "source": [
    "countbefore.mean()"
   ]
  },
  {
   "cell_type": "markdown",
   "id": "38cf165b-bb49-42c5-8ef6-ab81dcb33bf4",
   "metadata": {},
   "source": [
    "Итак, в среднем мы имеем 3.5 месяца данных по старым гексагонам и 1 месяц данных по новым. На мой взгляд, это приемлемая разница, чтобы говорить о динамике после перемен.\n",
    "______________________________________\n",
    "Теперь постром визуализацию данных по соотношению успешных встреч и назначенных до и после измениний."
   ]
  },
  {
   "cell_type": "code",
   "execution_count": 389,
   "id": "5e72197e-8efd-4e14-9647-d5f057e11d80",
   "metadata": {},
   "outputs": [
    {
     "data": {
      "image/png": "[encoded data removed]",
      "text/plain": [
       "<Figure size 640x480 with 1 Axes>"
      ]
     },
     "metadata": {},
     "output_type": "display_data"
    }
   ],
   "source": [
    "assigned = df_old['встреча назначена'].sum()\n",
    "successful = df_old['встреча состоялась успешно'].sum()\n",
    "\n",
    "plt.bar(['Назначенные', 'Успешные'], [assigned, successful], color=['skyblue', 'lightgreen'])\n",
    "plt.title('Назначенные vs Успешные встречи (df_old)')\n",
    "plt.ylabel('Количество')\n",
    "\n",
    "for i, val in enumerate([assigned, successful]):\n",
    "    plt.text(i, val + 5, str(int(val)), ha='center', fontsize=12)\n",
    "\n",
    "plt.tight_layout()\n",
    "plt.show()"
   ]
  },
  {
   "cell_type": "code",
   "execution_count": 390,
   "id": "e8742c5a-3b99-4c97-8d41-aa5783e12500",
   "metadata": {},
   "outputs": [
    {
     "data": {
      "image/png": "[encoded data removed]",
      "text/plain": [
       "<Figure size 640x480 with 1 Axes>"
      ]
     },
     "metadata": {},
     "output_type": "display_data"
    }
   ],
   "source": [
    "assigned = df_new['встреча назначена'].sum()\n",
    "successful = df_new['встреча состоялась успешно'].sum()\n",
    "\n",
    "plt.bar(['Назначенные', 'Успешные'], [assigned, successful], color=['cornflowerblue', 'mediumseagreen'])\n",
    "plt.title('Назначенные vs Успешные встречи (df_new)')\n",
    "plt.ylabel('Количество')\n",
    "\n",
    "for i, val in enumerate([assigned, successful]):\n",
    "    plt.text(i, val + 5, str(int(val)), ha='center', fontsize=12)\n",
    "\n",
    "plt.tight_layout()\n",
    "plt.show()"
   ]
  },
  {
   "cell_type": "markdown",
   "id": "fb6ce8b3-c3cf-469b-a7dd-fa9806011abe",
   "metadata": {},
   "source": [
    "Итак, мы видим, что с обновлением гексагонов количество успешных встреч уменьшилось. Мне стало интересно посмотреть общую статистику df по субъектам РФ. Возьмем топ-5 регионов"
   ]
  },
  {
   "cell_type": "code",
   "execution_count": 391,
   "id": "bb60374c-cb51-4f40-8bd9-1caa48656368",
   "metadata": {},
   "outputs": [
    {
     "data": {
      "image/png": "[encoded data removed]",
      "text/plain": [
       "<Figure size 800x800 with 1 Axes>"
      ]
     },
     "metadata": {},
     "output_type": "display_data"
    }
   ],
   "source": [
    "top_5 = (\n",
    "    df.groupby('Субъект РФ')['встреча состоялась успешно']\n",
    "    .sum()\n",
    "    .sort_values(ascending=False)\n",
    "    .head(5)\n",
    ")\n",
    "\n",
    "plt.figure(figsize=(8, 8))\n",
    "plt.pie(\n",
    "    top_subjects,\n",
    "    labels=top_subjects.index,\n",
    "    autopct='%1.1f%%',\n",
    "    startangle=140,\n",
    "    colors=plt.cm.tab10.colors\n",
    ")\n",
    "plt.title('Топ-10 субъектов РФ по успешным встречам', fontsize=14)\n",
    "plt.axis('equal') \n",
    "plt.tight_layout()\n",
    "plt.show()"
   ]
  },
  {
   "cell_type": "markdown",
   "id": "716ef76b-18bb-441b-8c8e-0c9981923dd0",
   "metadata": {},
   "source": [
    "Теперь мы знаем топ-5 регионов, которые фанатеють от Тинька. Давайте, посмотрим изменился ли лидер по субъекам РФ после того, как банк поменят новый режим. Для этого мы подсчитаем количество записей по всем по всем регионам и найдем самый популярный, а затем посмотрим количество успешных встреч и назначенных"
   ]
  },
  {
   "cell_type": "code",
   "execution_count": 392,
   "id": "cbe37218-c3b6-4928-af9f-7a3a9b6ebe18",
   "metadata": {},
   "outputs": [
    {
     "name": "stdout",
     "output_type": "stream",
     "text": [
      "\n",
      "Главные фанаты Тинька до изменения гексагонов жили в: Челябинская область\n",
      "В таблице их упоминали: 187953\n",
      "Они хотели встретиться с представителями: 186611\n",
      "Но получилось встретиться всего: 148205\n",
      "\n"
     ]
    }
   ],
   "source": [
    "r = df_old['Субъект РФ'].value_counts()\n",
    "\n",
    "# Самый частый регион\n",
    "top_rgn = r.idxmax()\n",
    "top_cnt = r.max()\n",
    "rgn_df = df_old[df_old['Субъект РФ'] == top_rgn]\n",
    "\n",
    "# Статистика встреч\n",
    "meet = rgn_df['встреча назначена'].sum()\n",
    "ok = rgn_df['встреча состоялась успешно'].sum()\n",
    "\n",
    "print(f\"\"\"\n",
    "Главные фанаты Тинька до изменения гексагонов жили в: {top_rgn}\n",
    "В таблице их упоминали: {top_cnt}\n",
    "Они хотели встретиться с представителями: {meet}\n",
    "Но получилось встретиться всего: {ok}\n",
    "\"\"\")"
   ]
  },
  {
   "cell_type": "code",
   "execution_count": 393,
   "id": "47c99c56-b8b3-41e6-8826-2ba0699b99f0",
   "metadata": {},
   "outputs": [
    {
     "name": "stdout",
     "output_type": "stream",
     "text": [
      "\n",
      "После нововведений Тинёк больше полюбили в: Тюменская область\n",
      "Жителей этого места упомянули: 44800\n",
      "Они хотели встретиться с представителями: 44005\n",
      "Но получилось встретиться всего: 32533\n",
      "\n"
     ]
    }
   ],
   "source": [
    "reg = df_new['Субъект РФ'].value_counts()\n",
    "\n",
    "# Самый частый\n",
    "region = reg.idxmax()\n",
    "count = reg.max()\n",
    "df = df_new[df_new['Субъект РФ'] == region]\n",
    "\n",
    "# Статистика по встречам\n",
    "assigned = df['встреча назначена'].sum()\n",
    "success = df['встреча состоялась успешно'].sum()\n",
    "\n",
    "# Вывод\n",
    "print(f\"\"\"\n",
    "После нововведений Тинёк больше полюбили в: {region}\n",
    "Жителей этого места упомянули: {count}\n",
    "Они хотели встретиться с представителями: {assigned}\n",
    "Но получилось встретиться всего: {success}\n",
    "\"\"\")"
   ]
  },
  {
   "cell_type": "markdown",
   "id": "3e7f9336-b894-4b36-9dc8-ce3123fae0a0",
   "metadata": {},
   "source": [
    "По изменениям конверсий в общем понятно. Мне стало интересно посмотреть на общие значения, например: Какую карту люди чаще всего заказывают?"
   ]
  },
  {
   "cell_type": "code",
   "execution_count": 394,
   "id": "30860619-2553-4da0-941e-eb96ebac5c50",
   "metadata": {},
   "outputs": [
    {
     "data": {
      "text/html": [
       "<div>\n",
       "<style scoped>\n",
       "    .dataframe tbody tr th:only-of-type {\n",
       "        vertical-align: middle;\n",
       "    }\n",
       "\n",
       "    .dataframe tbody tr th {\n",
       "        vertical-align: top;\n",
       "    }\n",
       "\n",
       "    .dataframe thead th {\n",
       "        text-align: right;\n",
       "    }\n",
       "</style>\n",
       "<table border=\"1\" class=\"dataframe\">\n",
       "  <thead>\n",
       "    <tr style=\"text-align: right;\">\n",
       "      <th></th>\n",
       "      <th>тип карты</th>\n",
       "      <th>count</th>\n",
       "    </tr>\n",
       "  </thead>\n",
       "  <tbody>\n",
       "    <tr>\n",
       "      <th>0</th>\n",
       "      <td>Debit Card</td>\n",
       "      <td>39559</td>\n",
       "    </tr>\n",
       "    <tr>\n",
       "      <th>1</th>\n",
       "      <td>Credit Card</td>\n",
       "      <td>4519</td>\n",
       "    </tr>\n",
       "    <tr>\n",
       "      <th>2</th>\n",
       "      <td>Trading</td>\n",
       "      <td>720</td>\n",
       "    </tr>\n",
       "    <tr>\n",
       "      <th>3</th>\n",
       "      <td>Cash Loan</td>\n",
       "      <td>2</td>\n",
       "    </tr>\n",
       "  </tbody>\n",
       "</table>\n",
       "</div>"
      ],
      "text/plain": [
       "     тип карты  count\n",
       "0   Debit Card  39559\n",
       "1  Credit Card   4519\n",
       "2      Trading    720\n",
       "3    Cash Loan      2"
      ]
     },
     "execution_count": 394,
     "metadata": {},
     "output_type": "execute_result"
    }
   ],
   "source": [
    "top_types = df['тип карты'].value_counts()\n",
    "top_types.reset_index()"
   ]
  },
  {
   "cell_type": "markdown",
   "id": "ebb8d3ca-1977-42ae-8fd5-046f344c7fdf",
   "metadata": {},
   "source": [
    "Довольно очевидные выводы, ладно. Напоследок вернемся к гексагонам: какие гексагоны первые претерпели изменения?"
   ]
  },
  {
   "cell_type": "code",
   "execution_count": 395,
   "id": "478c7ccb-003d-44c0-9c8f-fda53e39026e",
   "metadata": {},
   "outputs": [
    {
     "name": "stdout",
     "output_type": "stream",
     "text": [
      "                гексагон дата изменений\n",
      "32       8810d9a441fffff     2022-08-12\n",
      "1209468  8821659733fffff     2022-08-12\n",
      "1209477  8810ca2d39fffff     2022-08-12\n",
      "1209490  8810ca6905fffff     2022-08-12\n",
      "1209509  8810d9aeb5fffff     2022-08-12\n",
      "1209511  8810d9a66bfffff     2022-08-12\n",
      "1209556  8810d9a64dfffff     2022-08-12\n",
      "1209594  8810d9a6a5fffff     2022-08-12\n",
      "1209602  8810d9b4ebfffff     2022-08-12\n",
      "1209612  8810d9b401fffff     2022-08-12\n"
     ]
    },
    {
     "name": "stderr",
     "output_type": "stream",
     "text": [
      "C:\\Users\\Marusya\\AppData\\Local\\Temp\\ipykernel_9664\\387111789.py:1: SettingWithCopyWarning: \n",
      "A value is trying to be set on a copy of a slice from a DataFrame.\n",
      "Try using .loc[row_indexer,col_indexer] = value instead\n",
      "\n",
      "See the caveats in the documentation: https://pandas.pydata.org/pandas-docs/stable/user_guide/indexing.html#returning-a-view-versus-a-copy\n",
      "  df['дата изменений'] = pd.to_datetime(df['дата изменений'])\n"
     ]
    }
   ],
   "source": [
    "df['дата изменений'] = pd.to_datetime(df['дата изменений'])\n",
    "df_sorted = df.sort_values(by='дата изменений')\n",
    "first_change = df_sorted.drop_duplicates(subset='гексагон', keep='first')\n",
    "top10 = first_change[['гексагон', 'дата изменений']].head(10)\n",
    "print(top10)"
   ]
  },
  {
   "cell_type": "code",
   "execution_count": 396,
   "id": "886f02b7-cad9-40a5-a91c-c4b85af7fcdb",
   "metadata": {},
   "outputs": [
    {
     "name": "stdout",
     "output_type": "stream",
     "text": [
      "               гексагон         Субъект РФ\n",
      "32      8810d9a441fffff  Тюменская область\n",
      "1382    8810ca6905fffff  Тюменская область\n",
      "2164    8810d9a64dfffff  Тюменская область\n",
      "3077    8810d9a6a5fffff  Тюменская область\n",
      "3646    8821659733fffff  Тюменская область\n",
      "3715    8810d9a66bfffff  Тюменская область\n",
      "3855    8810d9b4ebfffff  Тюменская область\n",
      "32730   8810d9b401fffff  Тюменская область\n",
      "126050  8810d9aeb5fffff  Тюменская область\n",
      "160823  8810ca2d39fffff  Тюменская область\n"
     ]
    }
   ],
   "source": [
    "top10 = top10['гексагон'].tolist()\n",
    "cities = df[df['гексагон'].isin(top10)][['гексагон', 'Субъект РФ']].drop_duplicates()\n",
    "print(cities)"
   ]
  },
  {
   "cell_type": "code",
   "execution_count": null,
   "id": "e67c67e5-d709-4626-9684-9026b0efd569",
   "metadata": {},
   "outputs": [],
   "source": []
  }
 ],
 "metadata": {
  "kernelspec": {
   "display_name": "Python 3 (ipykernel)",
   "language": "python",
   "name": "python3"
  },
  "language_info": {
   "codemirror_mode": {
    "name": "ipython",
    "version": 3
   },
   "file_extension": ".py",
   "mimetype": "text/x-python",
   "name": "python",
   "nbconvert_exporter": "python",
   "pygments_lexer": "ipython3",
   "version": "3.12.7"
  }
 },
 "nbformat": 4,
 "nbformat_minor": 5
}
